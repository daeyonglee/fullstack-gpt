{
 "cells": [
  {
   "cell_type": "code",
   "execution_count": null,
   "metadata": {},
   "outputs": [],
   "source": [
    "from langchain.chat_models import ChatOpenAI\n",
    "\n",
    "\n",
    "message = \"내일 날씨좀 알려줘.\"\n",
    "llm = ChatOpenAI(\n",
    "  model_name=\"gpt-4o-mini\",\n",
    ")\n",
    "\n",
    "response = llm.predict(message)\n",
    "\n",
    "print(response)"
   ]
  },
  {
   "cell_type": "code",
   "execution_count": null,
   "metadata": {},
   "outputs": [],
   "source": [
    "from langchain.chat_models import ChatOpenAI\n",
    "\n",
    "\n",
    "chat = ChatOpenAI(\n",
    "  model_name=\"gpt-4o-mini\",\n",
    "  temperature=0.1 # 낮을수록 정확도가 높고, 높을수록 창의성이 높아짐\n",
    ")\n",
    "\n",
    "\n",
    "from langchain.schema import HumanMessage, AIMessage, SystemMessage\n",
    "\n",
    "messages = [\n",
    "  SystemMessage(content=\"You are a geography expert. And you only reply in Italian.\"),\n",
    "  AIMessage(content=\"Ciao, mi chiamo Paolo!\"),\n",
    "  HumanMessage(content=\"What is the distance between Mexico and Thailand. Also, what is your name?\")\n",
    "]\n",
    "\n",
    "chat.predict_messages(messages)\n"
   ]
  },
  {
   "cell_type": "code",
   "execution_count": null,
   "metadata": {},
   "outputs": [],
   "source": [
    "from langchain.chat_models import ChatOpenAI\n",
    "from langchain.prompts import PromptTemplate\n",
    "\n",
    "template = PromptTemplate(\n",
    "  input_variables=[\"country_a\", \"country_b\"],\n",
    "  template=\"What is the distance between {country_a} and {country_b}\",\n",
    ")\n",
    "chat = ChatOpenAI(\n",
    "  model_name=\"gpt-4o-mini\",\n",
    "  temperature=0.1\n",
    ")\n",
    "\n",
    "prompt = template.format(country_a=\"Mexico\", country_b=\"Thailand\")\n",
    "\n",
    "chat.predict(prompt)"
   ]
  },
  {
   "cell_type": "code",
   "execution_count": null,
   "metadata": {},
   "outputs": [],
   "source": [
    "from langchain.prompts import ChatPromptTemplate\n",
    "\n",
    "chat = ChatOpenAI(\n",
    "  model_name=\"gpt-4o-mini\",\n",
    "  temperature=0.1\n",
    ")\n",
    "\n",
    "template = ChatPromptTemplate.from_messages([\n",
    "  (\"system\", \"You are a geography expert. And you only reply in {language}\"),\n",
    "  (\"ai\", \"Ciao, mi chiamo {name}\"),\n",
    "  (\"human\", \"What is the distance between {country_a} and {country_b}. Also, what is your name?\")\n",
    "])\n",
    "\n",
    "prompt = template.format_messages(\n",
    "  language=\"Greek\",\n",
    "  name=\"Socrates\",\n",
    "  country_a=\"Mexico\",\n",
    "  country_b=\"Thailand\"\n",
    ")\n",
    "\n",
    "chat.predict_messages(prompt)\n"
   ]
  },
  {
   "cell_type": "code",
   "execution_count": null,
   "metadata": {},
   "outputs": [],
   "source": [
    "from langchain.schema import BaseOutputParser\n",
    "\n",
    "\n",
    "class CommonOutputParser(BaseOutputParser):\n",
    "  def parse(self, text):\n",
    "    items = text.strip().split(\",\")\n",
    "    return list(map(str.strip, items))\n",
    "  \n",
    "  \n",
    "p = CommonOutputParser()\n",
    "  \n",
    "p.parse(\"Hello,how,are,you\")\n",
    "\n",
    "ChatPromptTemplate"
   ]
  },
  {
   "cell_type": "code",
   "execution_count": null,
   "metadata": {},
   "outputs": [],
   "source": [
    "\n",
    "\n",
    "template = ChatPromptTemplate.from_messages(\n",
    "  [\n",
    "    (\"system\", \"You are a list generating machine. Everything you are asked will be answered with a comma separated a list of {max_items}. Do not reply with anything else.\"),\n",
    "    (\"human\", \"{question}\")\n",
    "  ]\n",
    ")\n",
    "\n",
    "prompt = template.format_messages(\n",
    "  max_items=10,\n",
    "  question=\"What are the planets?\"\n",
    ")\n",
    "\n",
    "result = chat.predict_messages(prompt)\n",
    "\n",
    "p = CommonOutputParser()\n",
    "\n",
    "p.parse(result.content)\n",
    "\n"
   ]
  },
  {
   "cell_type": "code",
   "execution_count": null,
   "metadata": {},
   "outputs": [],
   "source": [
    "chain = template | chat | CommonOutputParser()\n",
    "\n",
    "chain.invoke({\n",
    "  \"max_items\": 5,\n",
    "  \"question\": \"What are the pokemons?\"\n",
    "})"
   ]
  },
  {
   "cell_type": "code",
   "execution_count": 18,
   "metadata": {},
   "outputs": [
    {
     "data": {
      "text/plain": [
       "AIMessage(content=\"Chana Masala is a fantastic vegetarian dish that is already suitable for a vegetarian diet, as it primarily consists of chickpeas and spices. However, if you're looking for alternatives or modifications to enhance the recipe, here are a few suggestions:\\n\\n### Chana Masala Recipe (Vegetarian)\\n\\n#### Ingredients:\\n- 1 can (15 oz) chickpeas (garbanzo beans), drained and rinsed\\n- 1 medium onion, finely chopped\\n- 2 medium tomatoes, chopped\\n- 2-3 cloves garlic, minced\\n- 1-inch piece of ginger, grated\\n- 2 green chilies, slit (adjust to taste)\\n- 1 teaspoon cumin seeds\\n- 1 teaspoon coriander powder\\n- 1 teaspoon cumin powder\\n- 1 teaspoon garam masala\\n- ½ teaspoon turmeric powder\\n- ½ teaspoon red chili powder (adjust to taste)\\n- Salt to taste\\n- 2 tablespoons vegetable oil (can substitute with olive oil or coconut oil)\\n- Fresh cilantro, chopped (for garnish)\\n- Lemon wedges (for serving)\\n\\n#### Instructions:\\n\\n1. **Heat Oil**: In a large pan, heat the vegetable oil (or your chosen substitute) over medium heat.\\n\\n2. **Sauté Spices**: Add the cumin seeds and let them sizzle for a few seconds. Then, add the chopped onions and sauté until they turn golden brown.\\n\\n3. **Add Garlic and Ginger**: Stir in the minced garlic, grated ginger, and slit green chilies. Sauté for another minute until fragrant.\\n\\n4. **Cook Tomatoes**: Add the chopped tomatoes to the pan. Cook until the tomatoes soften and the oil starts to separate from the mixture (about 5-7 minutes).\\n\\n5. **Add Spices**: Stir in the coriander powder, cumin powder, turmeric powder, red chili powder, and salt. Cook for another 2-3 minutes.\\n\\n6. **Add Chickpeas**: Add the drained chickpeas to the pan. Mix well to coat the chickpeas with the spice mixture.\\n\\n7. **Simmer**: Pour in about 1 cup of water (adjust for desired consistency) and bring to a boil. Reduce the heat and let it simmer for about 10-15 minutes, allowing the flavors to meld.\\n\\n8. **Finish with Garam Masala**: Stir in the garam masala and cook for another 2 minutes. Adjust salt and spices to taste.\\n\\n9. **Garnish and Serve**: Remove from heat and garnish with fresh cilantro. Serve hot with rice, naan, or roti, and lemon wedges on the side.\\n\\n### Tips:\\n- You can add a pinch of sugar to balance the acidity of the tomatoes if desired.\\n- For a creamier texture, you can mash some of the chickpeas while cooking.\\n- Feel free to add vegetables like spinach or bell peppers for extra nutrition.\\n\\nEnjoy your homemade Chana Masala! If you have any other Indian dishes in mind or need more recipes, just let me know!\")"
      ]
     },
     "execution_count": 18,
     "metadata": {},
     "output_type": "execute_result"
    }
   ],
   "source": [
    "\n",
    "\n",
    "\n",
    "chef_template = ChatPromptTemplate.from_messages([\n",
    "  (\"system\", \"You are a world-class international chef. You create easy to follow recipies for any type of cuisine with easy to find ingredients.\"),\n",
    "  (\"human\", \"i want to cook {cuisine} food.\")\n",
    "])\n",
    "\n",
    "chef_chain = chef_template | chat\n",
    "\n",
    "veg_chef_prompt = ChatPromptTemplate.from_messages([\n",
    "  (\"system\", \"You are a vegetarian chef speciailized on making traditional recipies vegetarian. You find alternative ingredients and explain their preparation. You don't radically modify the recipe. If there is no alternative for a food just say you don't know how to replace it.\"),\n",
    "  (\"human\", \"{recipe}\")\n",
    "])\n",
    "\n",
    "\n",
    "veg_chain = veg_chef_prompt | chat\n",
    "\n",
    "final_chain = {\"recipe\": chef_chain} | veg_chain\n",
    "\n",
    "final_chain.invoke({\n",
    "  \"cuisine\": \"Indian\"\n",
    "})"
   ]
  },
  {
   "cell_type": "code",
   "execution_count": 23,
   "metadata": {},
   "outputs": [
    {
     "name": "stdout",
     "output_type": "stream",
     "text": [
      "**Java의 노래**\n",
      "\n",
      "자바의 세계, 그 깊은 바다,  \n",
      "객체의 춤, 메서드의 노래,  \n",
      "클래스와 인터페이스, 조화의 선율,  \n",
      "코드의 미로 속, 우리는 항해하네.\n",
      "\n",
      "강한 타입, 안전한 품,  \n",
      "예외 처리로 지키는 꿈,  \n",
      "멀티스레드의 리듬 속에,  \n",
      "동시성의 마법, 우린 함께해.\n",
      "\n",
      "JVM 위에서 펼쳐지는,  \n",
      "플랫폼의 경계를 넘는 자유,  \n",
      "\"Hello, World!\"의 첫 인사,  \n",
      "모든 시작은 이곳에서.\n",
      "\n",
      "컬렉션의 바다, 리스트의 물결,  \n",
      "맵의 길을 따라, 데이터의 향연,  \n",
      "람다의 숨결, 함수형의 미소,  \n",
      "코드의 아름다움, 그 속에 담겨.\n",
      "\n",
      "자바의 철학, \"Write Once, Run Anywhere\",  \n",
      "어디서든 빛나는 그 가능성,  \n",
      "우리는 함께 만들어가는,  \n",
      "이 세상의 모든 꿈과 희망.\n",
      "\n",
      "자바여, 너의 이름을 부르며,  \n",
      "코드의 시를, 영원히 노래하리,  \n",
      "우리가 만든 이 아름다운 세계,  \n",
      "자바의 노래, 끝없이 이어지리."
     ]
    }
   ],
   "source": [
    "\n",
    "from langchain.callbacks.streaming_stdout import StreamingStdOutCallbackHandler\n",
    "\n",
    "chat = ChatOpenAI(\n",
    "  model_name=\"gpt-4o-mini\",\n",
    "  temperature=0.1,\n",
    "  callbacks=[StreamingStdOutCallbackHandler()],\n",
    "  streaming=True\n",
    ")\n",
    "\n",
    "poetry_prompt = ChatPromptTemplate.from_messages({\n",
    "  (\"system\", \"너는 세상에서 가장 아름답고 멋진 시를 만드는 시인이야. 너는 프로그래밍 세상에서 특정 언어에 대한 시를 쓸 수 있어.\"),\n",
    "  (\"human\", \"{language}\")\n",
    "})\n",
    "\n",
    "poetry_chain = poetry_prompt | chat\n",
    "\n",
    "poetry_chain.invoke({\n",
    "  \"language\": \"Java\"\n",
    "})\n",
    "\n",
    "poetry_description_prompt = ChatPromptTemplate.from_messages({\n",
    "  (\"system\", \"너는 시인의 시를 보고 설명하는 해설가야.\"),\n",
    "  (\"human\", \"{poetry}\")\n",
    "})\n",
    "\n",
    "poetry_description_chain = poetry_description_prompt | chat\n",
    "\n",
    "final_chain = {\"poetry\": poetry_chain} | poetry_description_chain\n"
   ]
  },
  {
   "cell_type": "code",
   "execution_count": null,
   "metadata": {},
   "outputs": [],
   "source": []
  }
 ],
 "metadata": {
  "kernelspec": {
   "display_name": "env",
   "language": "python",
   "name": "python3"
  },
  "language_info": {
   "codemirror_mode": {
    "name": "ipython",
    "version": 3
   },
   "file_extension": ".py",
   "mimetype": "text/x-python",
   "name": "python",
   "nbconvert_exporter": "python",
   "pygments_lexer": "ipython3",
   "version": "3.11.11"
  }
 },
 "nbformat": 4,
 "nbformat_minor": 2
}
